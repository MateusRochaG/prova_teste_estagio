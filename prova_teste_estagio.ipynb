{
  "nbformat": 4,
  "nbformat_minor": 0,
  "metadata": {
    "colab": {
      "provenance": [],
      "authorship_tag": "ABX9TyOYrAFNM8yk23LhpHMLeNk7",
      "include_colab_link": true
    },
    "kernelspec": {
      "name": "python3",
      "display_name": "Python 3"
    },
    "language_info": {
      "name": "python"
    }
  },
  "cells": [
    {
      "cell_type": "markdown",
      "metadata": {
        "id": "view-in-github",
        "colab_type": "text"
      },
      "source": [
        "<a href=\"https://colab.research.google.com/github/MateusRochaG/prova_teste_estagio/blob/main/prova_teste_estagio.ipynb\" target=\"_parent\"><img src=\"https://colab.research.google.com/assets/colab-badge.svg\" alt=\"Open In Colab\"/></a>"
      ]
    },
    {
      "cell_type": "markdown",
      "source": [
        "Questão 1"
      ],
      "metadata": {
        "id": "d2J_KLAmBLjd"
      }
    },
    {
      "cell_type": "code",
      "source": [
        "INDICE = 13\n",
        "SOMA = 0\n",
        "K = 0\n",
        "\n",
        "while K < INDICE:\n",
        "    K += 1\n",
        "    SOMA += K\n",
        "\n",
        "print(SOMA)"
      ],
      "metadata": {
        "colab": {
          "base_uri": "https://localhost:8080/"
        },
        "id": "dkUVpsOSBTx0",
        "outputId": "2e4ef934-aedf-438f-a19c-1cea7c07303d"
      },
      "execution_count": 1,
      "outputs": [
        {
          "output_type": "stream",
          "name": "stdout",
          "text": [
            "91\n"
          ]
        }
      ]
    },
    {
      "cell_type": "markdown",
      "source": [
        "Questão 2"
      ],
      "metadata": {
        "id": "Ki8vk2l8BjFX"
      }
    },
    {
      "cell_type": "code",
      "source": [
        "def pertence_fibonacci(n):\n",
        "    # Inicia a sequência com os dois primeiros números\n",
        "    a, b = 0, 1\n",
        "    while b < n:\n",
        "        a, b = b, a + b\n",
        "    # Verifica se o número pertence à sequência\n",
        "    return b == n or n == 0\n",
        "\n",
        "numero = int(input(\"Informe um número: \"))\n",
        "\n",
        "if pertence_fibonacci(numero):\n",
        "    print(f\"O número {numero} pertence à sequência de Fibonacci.\")\n",
        "else:\n",
        "    print(f\"O número {numero} não pertence à sequência de Fibonacci.\")\n"
      ],
      "metadata": {
        "colab": {
          "base_uri": "https://localhost:8080/"
        },
        "id": "QYrBX6dJBh0z",
        "outputId": "ac3d7ed2-dd2e-460d-ac59-11f41ec4b3cd"
      },
      "execution_count": 11,
      "outputs": [
        {
          "output_type": "stream",
          "name": "stdout",
          "text": [
            "Informe um número: 1\n",
            "O número 1 pertence à sequência de Fibonacci.\n"
          ]
        }
      ]
    },
    {
      "cell_type": "markdown",
      "source": [
        "Questão 3"
      ],
      "metadata": {
        "id": "-OJywoNlB8NE"
      }
    },
    {
      "cell_type": "code",
      "source": [
        "import json\n",
        "with open('dados.json') as f:\n",
        "    dados = json.load(f)\n",
        "\n",
        "faturamentos = [dia[\"valor\"] for dia in dados if dia[\"valor\"] > 0]\n",
        "\n",
        "menor_faturamento = min(faturamentos)\n",
        "maior_faturamento = max(faturamentos)\n",
        "media_mensal = sum(faturamentos) / len(faturamentos)\n",
        "\n",
        "dias_acima_da_media = len([valor for valor in faturamentos if valor > media_mensal])\n",
        "\n",
        "print(f\"Menor faturamento: {menor_faturamento}\")\n",
        "print(f\"Maior faturamento: {maior_faturamento}\")\n",
        "print(f\"Dias acima da média: {dias_acima_da_media}\")\n"
      ],
      "metadata": {
        "colab": {
          "base_uri": "https://localhost:8080/"
        },
        "id": "mF5FXu1hB_Uk",
        "outputId": "222a5001-84af-41a5-9f9d-5b9ba14662e5"
      },
      "execution_count": 16,
      "outputs": [
        {
          "output_type": "stream",
          "name": "stdout",
          "text": [
            "Menor faturamento: 373.7838\n",
            "Maior faturamento: 48924.2448\n",
            "Dias acima da média: 10\n"
          ]
        }
      ]
    },
    {
      "cell_type": "markdown",
      "source": [
        "Questão 4"
      ],
      "metadata": {
        "id": "rojb3nN0CI0G"
      }
    },
    {
      "cell_type": "code",
      "source": [
        "faturamento = {\n",
        "    \"SP\": 67836.43,\n",
        "    \"RJ\": 36678.66,\n",
        "    \"MG\": 29229.88,\n",
        "    \"ES\": 27165.48,\n",
        "    \"Outros\": 19849.53\n",
        "}\n",
        "\n",
        "total = sum(faturamento.values())\n",
        "\n",
        "\n",
        "for estado, valor in faturamento.items():\n",
        "    percentual = (valor / total) * 100\n",
        "    print(f\"{estado}: {percentual:.2f}%\")\n"
      ],
      "metadata": {
        "colab": {
          "base_uri": "https://localhost:8080/"
        },
        "id": "ExaF8rGhCLsU",
        "outputId": "fd1aa44f-9d13-4b1d-efdd-d791bae83420"
      },
      "execution_count": 17,
      "outputs": [
        {
          "output_type": "stream",
          "name": "stdout",
          "text": [
            "SP: 37.53%\n",
            "RJ: 20.29%\n",
            "MG: 16.17%\n",
            "ES: 15.03%\n",
            "Outros: 10.98%\n"
          ]
        }
      ]
    },
    {
      "cell_type": "markdown",
      "source": [
        "Questão 5"
      ],
      "metadata": {
        "id": "BWdmQAhvCQW1"
      }
    },
    {
      "cell_type": "code",
      "source": [
        "def inverter_string(s):\n",
        "    return s[::-1]\n",
        "\n",
        "def solicitar_string():\n",
        "    while True:\n",
        "        string = input(\"Informe uma string para inverter (somente letras): \")\n",
        "        if string.isalpha():  # Verifica se a string contém apenas letras\n",
        "            return string\n",
        "        else:\n",
        "            print(\"Entrada inválida! Por favor, insira apenas letras.\")\n",
        "\n",
        "string = solicitar_string()\n",
        "string_invertida = inverter_string(string)\n",
        "\n",
        "print(f\"String invertida: {string_invertida}\")\n",
        "\n"
      ],
      "metadata": {
        "colab": {
          "base_uri": "https://localhost:8080/"
        },
        "id": "oa8zj6PbCSMk",
        "outputId": "b5eb52cd-273f-4bdb-e420-c672e6fefdaa"
      },
      "execution_count": 22,
      "outputs": [
        {
          "output_type": "stream",
          "name": "stdout",
          "text": [
            "Informe uma string para inverter (somente letras): manga\n",
            "String invertida: agnam\n"
          ]
        }
      ]
    }
  ]
}